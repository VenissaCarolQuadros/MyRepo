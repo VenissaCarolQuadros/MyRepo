{
  "nbformat": 4,
  "nbformat_minor": 0,
  "metadata": {
    "colab": {
      "name": "Project.ipynb",
      "provenance": [],
      "authorship_tag": "ABX9TyPfPudPUV2sF8N5y4io+qv8",
      "include_colab_link": true
    },
    "kernelspec": {
      "name": "python3",
      "display_name": "Python 3"
    },
    "language_info": {
      "name": "python"
    }
  },
  "cells": [
    {
      "cell_type": "markdown",
      "metadata": {
        "id": "view-in-github",
        "colab_type": "text"
      },
      "source": [
        "<a href=\"https://colab.research.google.com/github/VenissaCarolQuadros/MyRepo/blob/main/Project.ipynb\" target=\"_parent\"><img src=\"https://colab.research.google.com/assets/colab-badge.svg\" alt=\"Open In Colab\"/></a>"
      ]
    },
    {
      "cell_type": "code",
      "metadata": {
        "id": "vRjv5UrkEz-y"
      },
      "source": [
        "import requests\n",
        "import json\n",
        "import pyaudio\n",
        "import wave"
      ],
      "execution_count": 28,
      "outputs": []
    },
    {
      "cell_type": "code",
      "metadata": {
        "colab": {
          "base_uri": "https://localhost:8080/"
        },
        "id": "eJU0vNXpKEgy",
        "outputId": "33e46a59-8400-4afa-d61e-82c8cf704120"
      },
      "source": [
        "from google.colab import drive\n",
        "drive.mount('/content/drive')"
      ],
      "execution_count": 26,
      "outputs": [
        {
          "output_type": "stream",
          "text": [
            "Drive already mounted at /content/drive; to attempt to forcibly remount, call drive.mount(\"/content/drive\", force_remount=True).\n"
          ],
          "name": "stdout"
        }
      ]
    },
    {
      "cell_type": "code",
      "metadata": {
        "id": "Bb3IITJjH07u"
      },
      "source": [
        "with open('/content/drive/MyDrive/data/Project/config.json', 'r') as f:\n",
        "    wit_access_token = json.load(f)['key']\n",
        "API_ENDPOINT = 'https://api.wit.ai/speech'"
      ],
      "execution_count": 29,
      "outputs": []
    },
    {
      "cell_type": "code",
      "metadata": {
        "colab": {
          "base_uri": "https://localhost:8080/"
        },
        "id": "ZI-W28dSNNLU",
        "outputId": "c54609f5-98c1-4ca3-959a-e241da027f43"
      },
      "source": [
        "\n",
        "    \n",
        "with open('/content/drive/MyDrive/data/voice/train/voice1/accuracy.wav', 'rb') as f:\n",
        "  audio = f.read()\n",
        "\n",
        "headers = {'authorization': 'Bearer ' + wit_access_token,\n",
        "            'Content-Type': 'audio/wav'}\n",
        "resp = requests.post(API_ENDPOINT, headers = headers,\n",
        "                      data = audio)\n",
        "data = json.loads(resp.content)\n",
        "\n",
        "text = data['text']\n",
        "print(text)"
      ],
      "execution_count": 31,
      "outputs": [
        {
          "output_type": "stream",
          "text": [
            "accuracy\n"
          ],
          "name": "stdout"
        }
      ]
    }
  ]
}